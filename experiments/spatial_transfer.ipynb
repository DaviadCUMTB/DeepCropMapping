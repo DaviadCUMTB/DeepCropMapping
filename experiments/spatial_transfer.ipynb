{
 "cells": [
  {
   "cell_type": "code",
   "execution_count": null,
   "metadata": {
    "ExecuteTime": {
     "end_time": "2020-04-19T08:23:25.757521Z",
     "start_time": "2020-04-19T08:23:25.753117Z"
    }
   },
   "outputs": [],
   "source": [
    "import os\n",
    "import sys\n",
    "module_path = os.path.abspath(os.path.join(\"..\"))\n",
    "if module_path not in sys.path:\n",
    "    sys.path.append(module_path)"
   ]
  },
  {
   "cell_type": "code",
   "execution_count": null,
   "metadata": {
    "ExecuteTime": {
     "end_time": "2020-04-19T08:23:28.755303Z",
     "start_time": "2020-04-19T08:23:25.760710Z"
    }
   },
   "outputs": [],
   "source": [
    "import numpy as np\n",
    "import pandas as pd\n",
    "from sklearn.metrics import accuracy_score\n",
    "import torch\n",
    "import torch.nn as nn\n",
    "from utils.logger import PrettyLogger\n",
    "from utils.io_func import save_to_csv, load_from_pkl, load_from_pth\n",
    "from utils.helper import DCMHelper"
   ]
  },
  {
   "cell_type": "code",
   "execution_count": null,
   "metadata": {
    "ExecuteTime": {
     "end_time": "2020-04-19T08:23:28.763085Z",
     "start_time": "2020-04-19T08:23:28.758935Z"
    }
   },
   "outputs": [],
   "source": [
    "logger = PrettyLogger()\n",
    "helper = DCMHelper()"
   ]
  },
  {
   "cell_type": "code",
   "execution_count": null,
   "metadata": {
    "ExecuteTime": {
     "end_time": "2020-04-19T08:23:28.775382Z",
     "start_time": "2020-04-19T08:23:28.766284Z"
    }
   },
   "outputs": [],
   "source": [
    "BASE_SITES = [\"Site_A\"]\n",
    "TEST_SITE = \"Site_B\"\n",
    "TEST_YEARS = [str(year) for year in [2018]]\n",
    "DATA_DIR = \"../preprocessing/out/{}\".format(TEST_SITE)\n",
    "X_PATH_TEMPLATE = os.path.join(DATA_DIR, \"x-{year}.npy\")\n",
    "Y_PATH_TEMPLATE = os.path.join(DATA_DIR, \"y-{year}.npy\")\n",
    "SCALER_PATH = \"./out/training/{}/scaler.pkl\".format(\"_\".join(BASE_SITES))\n",
    "MODEL_PATH = \"./out/training/{}/atbilstm.pth\".format(\"_\".join(BASE_SITES))\n",
    "RESULT_DIR = \"./out/spatial_tran/{}/{}\".format(\"_\".join(BASE_SITES), TEST_SITE)\n",
    "DEVICE = torch.device(\"cuda:0\")"
   ]
  },
  {
   "cell_type": "markdown",
   "metadata": {},
   "source": [
    "# Input"
   ]
  },
  {
   "cell_type": "code",
   "execution_count": null,
   "metadata": {
    "ExecuteTime": {
     "end_time": "2020-04-19T08:23:30.864974Z",
     "start_time": "2020-04-19T08:23:28.778968Z"
    }
   },
   "outputs": [],
   "source": [
    "def get_paths(path_template, years):\n",
    "    return [path_template.format(year=year) for year in years]\n",
    "\n",
    "\n",
    "x_test = helper.input_x(get_paths(X_PATH_TEMPLATE, TEST_YEARS))\n",
    "y_test = helper.input_y(get_paths(Y_PATH_TEMPLATE, TEST_YEARS))"
   ]
  },
  {
   "cell_type": "markdown",
   "metadata": {},
   "source": [
    "# Normalization"
   ]
  },
  {
   "cell_type": "code",
   "execution_count": null,
   "metadata": {
    "ExecuteTime": {
     "end_time": "2020-04-19T08:23:31.323735Z",
     "start_time": "2020-04-19T08:23:30.867103Z"
    }
   },
   "outputs": [],
   "source": [
    "scaler = load_from_pkl(SCALER_PATH)\n",
    "x_test = helper.normalize_with_scaler(scaler, x_test)"
   ]
  },
  {
   "cell_type": "markdown",
   "metadata": {},
   "source": [
    "# Prediction"
   ]
  },
  {
   "cell_type": "code",
   "execution_count": null,
   "metadata": {
    "ExecuteTime": {
     "end_time": "2020-04-19T08:23:55.970104Z",
     "start_time": "2020-04-19T08:23:31.326136Z"
    }
   },
   "outputs": [],
   "source": [
    "test_dataloader = helper.make_data_loader(x_test, y_test, shuffle=False)\n",
    "\n",
    "net = helper.build_model()\n",
    "net.load_state_dict(load_from_pth(MODEL_PATH))\n",
    "net = nn.DataParallel(net, device_ids=[0, 1, 2, 3])\n",
    "net.to(DEVICE)\n",
    "\n",
    "y_test_soft_pred, y_test_hard_pred, attn_test = helper.predict(\n",
    "    net, test_dataloader, DEVICE\n",
    ")\n",
    "acc_test = accuracy_score(y_test, y_test_hard_pred)\n",
    "logger.info(TEST_SITE, \"test acc:\", acc_test)"
   ]
  },
  {
   "cell_type": "markdown",
   "metadata": {},
   "source": [
    "# Saving all"
   ]
  },
  {
   "cell_type": "code",
   "execution_count": null,
   "metadata": {
    "ExecuteTime": {
     "end_time": "2020-04-19T08:24:03.541550Z",
     "start_time": "2020-04-19T08:23:55.972732Z"
    }
   },
   "outputs": [],
   "source": [
    "save_to_csv(\n",
    "    y_test_soft_pred, os.path.join(RESULT_DIR, \"y_test_soft_pred.csv\")\n",
    ")\n",
    "save_to_csv(\n",
    "    y_test_hard_pred, os.path.join(RESULT_DIR, \"y_test_hard_pred.csv\")\n",
    ")\n",
    "save_to_csv(\n",
    "    np.array([[acc_test]]),\n",
    "    os.path.join(RESULT_DIR, \"perf_abstract.csv\"),\n",
    "    header=[\"acc_test\"]\n",
    ")\n",
    "save_to_csv(\n",
    "    helper.test_time_list,\n",
    "    os.path.join(RESULT_DIR, \"test_time.csv\"),\n",
    "    header=[\"test_start_time\", \"test_end_time\", \"duration\"]\n",
    ")"
   ]
  }
 ],
 "metadata": {
  "kernelspec": {
   "display_name": "Python 3",
   "language": "python",
   "name": "python3"
  },
  "language_info": {
   "codemirror_mode": {
    "name": "ipython",
    "version": 3
   },
   "file_extension": ".py",
   "mimetype": "text/x-python",
   "name": "python",
   "nbconvert_exporter": "python",
   "pygments_lexer": "ipython3",
   "version": "3.5.2"
  },
  "toc": {
   "base_numbering": 1,
   "nav_menu": {
    "height": "225px",
    "width": "262px"
   },
   "number_sections": true,
   "sideBar": true,
   "skip_h1_title": false,
   "title_cell": "Table of Contents",
   "title_sidebar": "Contents",
   "toc_cell": false,
   "toc_position": {
    "height": "calc(100% - 180px)",
    "left": "10px",
    "top": "150px",
    "width": "223px"
   },
   "toc_section_display": true,
   "toc_window_display": true
  }
 },
 "nbformat": 4,
 "nbformat_minor": 2
}
